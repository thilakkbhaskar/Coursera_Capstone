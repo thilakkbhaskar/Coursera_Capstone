{
    "nbformat_minor": 1, 
    "cells": [
        {
            "source": "<H3> Data science approach to open new restaurant in the city of Raleigh (Wake County). <H3>", 
            "cell_type": "markdown", 
            "metadata": {
                "collapsed": true
            }
        }, 
        {
            "source": "<H3>INTRODUCTION<H3>\n<H4>Raleigh-Durham twin cities region also known as the RTP (Research Triangle Park) is one of the fastest growing regions of the US which is also a technology and research hub for fortune 500 corporation. There is a huge influx and growth in population as well as a big surge in the airport traffic which indicates the amount of growth experienced by this region. The travel data for the airport traffic with Passenger volume at RDU hit an all-time high in June, with more than 679,000 travelers boarding flights throughout the month \u2013 a 10.6 percent increase over June 2018.<H4>\n", 
            "cell_type": "markdown", 
            "metadata": {}
        }, 
        {
            "source": "## BUSINESS CASE\n\n##### One of our clients which run a big restaurant chain has approached us to provide them an analysis and recommendation to open a set of new restaurants chain across the wake county to serve the growing needs of the region and help them identify the best locations for launching the new restaurant outlets.\n\n###### The following criteria are considered by the client to choose the location of the new restaurant:\n1.\tUniqueness \u2013 This criterion checks for the availability of similar restaurant in the vicinity, we were advised to identify locations which does not have the same chain restaurants within 2 Kilometer Radius.\n2.\tVisibility and accessibility. Select a spot that can be seen by those driving or walking by. You should also look for an area that gets plenty of passersby on foot or in cars. In addition, consider if there is parking and ease of access by foot or car.\n3.\tThe demographics. Ensure the target market of your restaurant matches the demographics of the area.\n4.\tLabor costs and minimum wage. It\u2019s important to ensure that the labor costs of an area don\u2019t cut into your profits. You will also want to have an idea of what employees might expect to make based on the location.\n5.\tThe competition of the area. Some nearby competition can help with marketing. But it\u2019s wise to have enough of a distance that you can still guarantee a solid pool of customers who won\u2019t be easily drawn to another similar place.\n", 
            "cell_type": "markdown", 
            "metadata": {}
        }, 
        {
            "source": "### DATA SOURCE\n\n#### In this capstone project we will address the Uniqueness requirement of the client and use the latest updated source data available in the Raleigh \u2013 Open Data portal [http://data-ral.opendata.arcgis.com/] related to existing restaurants in the wake county and provide an analysis and recommendation to identify new restaurant locations in the wake county geography using the modern data science approach and foursquare APIs.", 
            "cell_type": "markdown", 
            "metadata": {}
        }
    ], 
    "metadata": {
        "kernelspec": {
            "display_name": "Python 3.6", 
            "name": "python3", 
            "language": "python"
        }, 
        "language_info": {
            "mimetype": "text/x-python", 
            "nbconvert_exporter": "python", 
            "version": "3.6.8", 
            "name": "python", 
            "file_extension": ".py", 
            "pygments_lexer": "ipython3", 
            "codemirror_mode": {
                "version": 3, 
                "name": "ipython"
            }
        }
    }, 
    "nbformat": 4
}